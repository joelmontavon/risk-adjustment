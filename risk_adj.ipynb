{
 "cells": [
  {
   "cell_type": "markdown",
   "metadata": {},
   "source": [
    "<style>\n",
    ".icon:hover {\n",
    "  opacity: 0.7;\n",
    "}\n",
    ".icon { \n",
    "    overflow: hidden;\n",
    "    filter: grayscale(100%);\n",
    "}\n",
    "</style>\n",
    "<a href=\"https://www.linkedin.com/in/joel-montavon-704808a/\" target=\"_blank\"><img class=\"icon\" width=\"60\" height=\"60\" src=\"https://content.linkedin.com/content/dam/me/brand/en-us/brand-home/logos/In-Blue-Logo.png.original.png\" style=\"position: absolute; right: 80px; top: 10px;\"></img></a>\n",
    "<a href=\"https://github.com/joelmontavon/risk-adjustment\" target=\"_blank\"><img class=\"icon\" width=\"80\" height=\"80\" src=\"https://github.githubassets.com/images/modules/logos_page/GitHub-Mark.png\" style=\"position: absolute; right: 0px; top: 0px;\"></img></a>\n",
    "<h1>Risk Adjustment for Social Determinants of Health (SDOH)</h1>\n",
    "<p>This tutorial will explain how to adjust healthcare quality measures for SDOH factors.</p>\n",
    "<p>For this tutorial, I will use the following publicly available datasets:</p>\n",
    "<ul>\n",
    "    <li><b><a href=\"https://www.cms.gov/files/zip/2022-star-ratings-data-table-oct-06-2021.zip\">2022 Star Ratings Data Table</a></b>: CMS publishes the data related to their Star Ratings on their <a href=\"https://www.cms.gov/Medicare/Prescription-Drug-Coverage/PrescriptionDrugCovGenIn/PerformanceData\" target=\"_blank\">Part C and D Performance Data</a> webpage.</li>\n",
    "    <li><b><a href=\"https://www.cms.gov/files/zip/monthly-enrollment-cpsc-december-2020.zip\">Monthly Enrollment by CPSC – December 2020 (ZIP)</a></b>: CMS publishes data related to enrollment in Medicare contracts on their <a href=\"https://www.cms.gov/Research-Statistics-Data-and-Systems/Statistics-Trends-and-Reports/MCRAdvPartDEnrolData/Monthly-Enrollment-by-Contract-Plan-State-County\" target=\"_blank\">Medicare Advantage/Part D Contract and Enrollment Data</a> webpage.</li>\n",
    "    <li><b><a href=\"https://www.ahrq.gov/sites/default/files/wysiwyg/sdohchallenge/data/county_2018.XLSX\">Social Determinants of Health (SDOH) Beta Data File</a></b>: The Agency for Healthcare Research and Quality (AHRQ) has published SDOH data on their <a href=\"https://www.ahrq.gov/sdoh/data-analytics/sdoh-data.html\" target=\"_blank\">SDOH Database</a> webpage. The data includes variables related to social context (e.g., age, race/ethnicity, veteran status), economic context (e.g., income, unemployment rate), education, physical infrastructure (e.g, housing, crime, transportation), and healthcare context (e.g., health insurance).</li>\n",
    "</ul>"
   ]
  },
  {
   "cell_type": "markdown",
   "metadata": {},
   "source": [
    "<p>First, I'm going to setup a variable with my path so I can read the data into dataframes.</p>"
   ]
  },
  {
   "cell_type": "code",
   "execution_count": 1,
   "metadata": {},
   "outputs": [],
   "source": [
    "import os\n",
    "\n",
    "#update with your own path; prefix your string for paths with r in windows\n",
    "my_path = r'D:\\projects\\python\\risk adj' + os.sep"
   ]
  },
  {
   "cell_type": "markdown",
   "metadata": {},
   "source": [
    "<p>I read the Medicare enrollment data into a dataframe. I need to convert the column with enrollment to numbers, clean up the column names, and limit to rows with some enrollment.</p>"
   ]
  },
  {
   "cell_type": "code",
   "execution_count": 2,
   "metadata": {},
   "outputs": [],
   "source": [
    "import pandas as pd\n",
    "import re\n",
    "\n",
    "def try_number(str):\n",
    "    try:\n",
    "        return int(str)\n",
    "    except:\n",
    "        return 0\n",
    "\n",
    "#read the CSV file\n",
    "enroll = pd.read_csv(my_path + 'CPSC_Enrollment_Info_2020_12.csv', converters={'Enrollment': try_number})\n",
    "#rename some columns\n",
    "enroll = enroll.rename(columns=lambda x: re.sub(\"\\s+\", \"_\", re.sub('[^A-Za-z0-9\\s]+',' ', x.lower())))\n",
    "#limit to rows with some enrollment\n",
    "enroll = enroll[(enroll['enrollment'] != 0)]"
   ]
  },
  {
   "cell_type": "markdown",
   "metadata": {},
   "source": [
    "<p>Take a look at the enrollment data after cleaning it up.</p>"
   ]
  },
  {
   "cell_type": "code",
   "execution_count": 3,
   "metadata": {},
   "outputs": [
    {
     "data": {
      "text/html": [
       "<div>\n",
       "<style scoped>\n",
       "    .dataframe tbody tr th:only-of-type {\n",
       "        vertical-align: middle;\n",
       "    }\n",
       "\n",
       "    .dataframe tbody tr th {\n",
       "        vertical-align: top;\n",
       "    }\n",
       "\n",
       "    .dataframe thead th {\n",
       "        text-align: right;\n",
       "    }\n",
       "</style>\n",
       "<table border=\"1\" class=\"dataframe\">\n",
       "  <thead>\n",
       "    <tr style=\"text-align: right;\">\n",
       "      <th></th>\n",
       "      <th>contract_number</th>\n",
       "      <th>plan_id</th>\n",
       "      <th>ssa_state_county_code</th>\n",
       "      <th>fips_state_county_code</th>\n",
       "      <th>state</th>\n",
       "      <th>county</th>\n",
       "      <th>enrollment</th>\n",
       "    </tr>\n",
       "  </thead>\n",
       "  <tbody>\n",
       "    <tr>\n",
       "      <th>4</th>\n",
       "      <td>E0654</td>\n",
       "      <td>801</td>\n",
       "      <td>1010</td>\n",
       "      <td>1003.0</td>\n",
       "      <td>AL</td>\n",
       "      <td>Baldwin</td>\n",
       "      <td>12</td>\n",
       "    </tr>\n",
       "    <tr>\n",
       "      <th>72</th>\n",
       "      <td>E0654</td>\n",
       "      <td>801</td>\n",
       "      <td>2020</td>\n",
       "      <td>2020.0</td>\n",
       "      <td>AK</td>\n",
       "      <td>Anchorage</td>\n",
       "      <td>143</td>\n",
       "    </tr>\n",
       "    <tr>\n",
       "      <th>77</th>\n",
       "      <td>E0654</td>\n",
       "      <td>801</td>\n",
       "      <td>2090</td>\n",
       "      <td>2090.0</td>\n",
       "      <td>AK</td>\n",
       "      <td>Fairbanks North Star</td>\n",
       "      <td>87</td>\n",
       "    </tr>\n",
       "    <tr>\n",
       "      <th>80</th>\n",
       "      <td>E0654</td>\n",
       "      <td>801</td>\n",
       "      <td>2122</td>\n",
       "      <td>2122.0</td>\n",
       "      <td>AK</td>\n",
       "      <td>Kenai Peninsula</td>\n",
       "      <td>32</td>\n",
       "    </tr>\n",
       "    <tr>\n",
       "      <th>84</th>\n",
       "      <td>E0654</td>\n",
       "      <td>801</td>\n",
       "      <td>2170</td>\n",
       "      <td>2170.0</td>\n",
       "      <td>AK</td>\n",
       "      <td>Matanuska-Susitna</td>\n",
       "      <td>58</td>\n",
       "    </tr>\n",
       "    <tr>\n",
       "      <th>...</th>\n",
       "      <td>...</td>\n",
       "      <td>...</td>\n",
       "      <td>...</td>\n",
       "      <td>...</td>\n",
       "      <td>...</td>\n",
       "      <td>...</td>\n",
       "      <td>...</td>\n",
       "    </tr>\n",
       "    <tr>\n",
       "      <th>3212901</th>\n",
       "      <td>S9701</td>\n",
       "      <td>807</td>\n",
       "      <td>36480</td>\n",
       "      <td>39093.0</td>\n",
       "      <td>OH</td>\n",
       "      <td>Lorain</td>\n",
       "      <td>18</td>\n",
       "    </tr>\n",
       "    <tr>\n",
       "      <th>3213419</th>\n",
       "      <td>S9701</td>\n",
       "      <td>807</td>\n",
       "      <td>45550</td>\n",
       "      <td>48167.0</td>\n",
       "      <td>TX</td>\n",
       "      <td>Galveston</td>\n",
       "      <td>11</td>\n",
       "    </tr>\n",
       "    <tr>\n",
       "      <th>3213436</th>\n",
       "      <td>S9701</td>\n",
       "      <td>807</td>\n",
       "      <td>45610</td>\n",
       "      <td>48201.0</td>\n",
       "      <td>TX</td>\n",
       "      <td>Harris</td>\n",
       "      <td>35</td>\n",
       "    </tr>\n",
       "    <tr>\n",
       "      <th>3213505</th>\n",
       "      <td>S9701</td>\n",
       "      <td>807</td>\n",
       "      <td>45801</td>\n",
       "      <td>48339.0</td>\n",
       "      <td>TX</td>\n",
       "      <td>Montgomery</td>\n",
       "      <td>15</td>\n",
       "    </tr>\n",
       "    <tr>\n",
       "      <th>3213607</th>\n",
       "      <td>S9701</td>\n",
       "      <td>807</td>\n",
       "      <td>46170</td>\n",
       "      <td>49035.0</td>\n",
       "      <td>UT</td>\n",
       "      <td>Salt Lake</td>\n",
       "      <td>11</td>\n",
       "    </tr>\n",
       "  </tbody>\n",
       "</table>\n",
       "<p>155628 rows × 7 columns</p>\n",
       "</div>"
      ],
      "text/plain": [
       "        contract_number  plan_id  ssa_state_county_code  \\\n",
       "4                 E0654      801                   1010   \n",
       "72                E0654      801                   2020   \n",
       "77                E0654      801                   2090   \n",
       "80                E0654      801                   2122   \n",
       "84                E0654      801                   2170   \n",
       "...                 ...      ...                    ...   \n",
       "3212901           S9701      807                  36480   \n",
       "3213419           S9701      807                  45550   \n",
       "3213436           S9701      807                  45610   \n",
       "3213505           S9701      807                  45801   \n",
       "3213607           S9701      807                  46170   \n",
       "\n",
       "         fips_state_county_code state                county  enrollment  \n",
       "4                        1003.0    AL               Baldwin          12  \n",
       "72                       2020.0    AK             Anchorage         143  \n",
       "77                       2090.0    AK  Fairbanks North Star          87  \n",
       "80                       2122.0    AK       Kenai Peninsula          32  \n",
       "84                       2170.0    AK     Matanuska-Susitna          58  \n",
       "...                         ...   ...                   ...         ...  \n",
       "3212901                 39093.0    OH                Lorain          18  \n",
       "3213419                 48167.0    TX             Galveston          11  \n",
       "3213436                 48201.0    TX                Harris          35  \n",
       "3213505                 48339.0    TX            Montgomery          15  \n",
       "3213607                 49035.0    UT             Salt Lake          11  \n",
       "\n",
       "[155628 rows x 7 columns]"
      ]
     },
     "execution_count": 3,
     "metadata": {},
     "output_type": "execute_result"
    }
   ],
   "source": [
    "enroll"
   ]
  },
  {
   "cell_type": "markdown",
   "metadata": {},
   "source": [
    "<p>I read the SDOH data into a dataframe and clean up the column names.</p>"
   ]
  },
  {
   "cell_type": "code",
   "execution_count": 4,
   "metadata": {},
   "outputs": [],
   "source": [
    "#read excel file\n",
    "sdoh = pd.read_excel(my_path + 'county_2018.XLSX')\n",
    "#rename some columns\n",
    "sdoh = sdoh.rename(columns=lambda x: re.sub(\"\\s+\", \"_\", re.sub('[^A-Za-z0-9\\s]+',' ', x.lower())))"
   ]
  },
  {
   "cell_type": "markdown",
   "metadata": {},
   "source": [
    "<p>Now, I'm going to identify the variables with at least 90% of the rows populated so I can throw them out.</p>"
   ]
  },
  {
   "cell_type": "code",
   "execution_count": 5,
   "metadata": {},
   "outputs": [],
   "source": [
    "#perform a count on the variables that I care about; the first and last few rows are identifiers so not included\n",
    "vars_cnts = sdoh.iloc[:, 5:224].count().reset_index()\n",
    "#rename the columns\n",
    "vars_cnts = vars_cnts.rename(columns={'index':'var', 0: 'n'})\n",
    "#identify variables with at least 90% of the rows populated\n",
    "vars = vars_cnts[vars_cnts['n'] > (vars_cnts['n'].max() * 0.9)]['var']\n",
    "#convert to a list\n",
    "vars = vars.values.tolist()"
   ]
  },
  {
   "cell_type": "markdown",
   "metadata": {},
   "source": [
    "<p>Next, I want to eliminate any variables which are highly correlated. It is easy to create a correlation matrix in pandas using the corr() function. Pearson correlation is used by default.</p>\n",
    "<p>For a subset of the variables, I have created a heatmap in the correlation matrix to give you an idea what this looks like.</p>"
   ]
  },
  {
   "cell_type": "code",
   "execution_count": 6,
   "metadata": {},
   "outputs": [
    {
     "data": {
      "image/png": "[encoded data removed]",
      "text/plain": [
       "<Figure size 1080x720 with 2 Axes>"
      ]
     },
     "metadata": {
      "needs_background": "light"
     },
     "output_type": "display_data"
    }
   ],
   "source": [
    "import matplotlib.pyplot as plt\n",
    "import seaborn as sns\n",
    "\n",
    "plt.figure(figsize=(15,10))\n",
    "corrMatrix = sdoh[vars[:10]].corr()\n",
    "sns.heatmap(corrMatrix, annot=True, cmap=plt.cm.Reds)\n",
    "plt.show()"
   ]
  },
  {
   "cell_type": "markdown",
   "metadata": {},
   "source": [
    "<p>Since I have nearly 200 variables, I need to use a programatic approach to eliminating highly correlated variables.</p>"
   ]
  },
  {
   "cell_type": "code",
   "execution_count": 7,
   "metadata": {},
   "outputs": [],
   "source": [
    "#calculate correlations between variables and reset index\n",
    "corr = sdoh[vars].corr().reset_index()\n",
    "#transform variables and their values from columns to rows\n",
    "corr = pd.melt(corr, id_vars=['index'], var_name='var', value_name='val')\n",
    "#rename the columns\n",
    "corr = corr.rename(columns={'index':'var1', 'var':'var2', 'val': 'corr'})\n",
    "#modify correlations to absolute values\n",
    "corr['corr'] = corr['corr'].abs()\n",
    "#no need to include correlations between a variable and itself\n",
    "corr = corr[corr['var1'] != corr['var2']]"
   ]
  },
  {
   "cell_type": "markdown",
   "metadata": {},
   "source": [
    "<p>Take a look with the resulting dataset with the correlations.</p>"
   ]
  },
  {
   "cell_type": "code",
   "execution_count": 8,
   "metadata": {},
   "outputs": [
    {
     "data": {
      "text/html": [
       "<div>\n",
       "<style scoped>\n",
       "    .dataframe tbody tr th:only-of-type {\n",
       "        vertical-align: middle;\n",
       "    }\n",
       "\n",
       "    .dataframe tbody tr th {\n",
       "        vertical-align: top;\n",
       "    }\n",
       "\n",
       "    .dataframe thead th {\n",
       "        text-align: right;\n",
       "    }\n",
       "</style>\n",
       "<table border=\"1\" class=\"dataframe\">\n",
       "  <thead>\n",
       "    <tr style=\"text-align: right;\">\n",
       "      <th></th>\n",
       "      <th>var1</th>\n",
       "      <th>var2</th>\n",
       "      <th>corr</th>\n",
       "    </tr>\n",
       "  </thead>\n",
       "  <tbody>\n",
       "    <tr>\n",
       "      <th>1</th>\n",
       "      <td>nchs_urcs_2006</td>\n",
       "      <td>ahrf_usda_rucc_2013</td>\n",
       "      <td>0.842705</td>\n",
       "    </tr>\n",
       "    <tr>\n",
       "      <th>2</th>\n",
       "      <td>nchs_urcs_2013</td>\n",
       "      <td>ahrf_usda_rucc_2013</td>\n",
       "      <td>0.903884</td>\n",
       "    </tr>\n",
       "    <tr>\n",
       "      <th>3</th>\n",
       "      <td>territory</td>\n",
       "      <td>ahrf_usda_rucc_2013</td>\n",
       "      <td>0.164745</td>\n",
       "    </tr>\n",
       "    <tr>\n",
       "      <th>4</th>\n",
       "      <td>acs_total_pop_wt</td>\n",
       "      <td>ahrf_usda_rucc_2013</td>\n",
       "      <td>0.327719</td>\n",
       "    </tr>\n",
       "    <tr>\n",
       "      <th>5</th>\n",
       "      <td>acs_pct_age_65up</td>\n",
       "      <td>ahrf_usda_rucc_2013</td>\n",
       "      <td>0.421954</td>\n",
       "    </tr>\n",
       "    <tr>\n",
       "      <th>...</th>\n",
       "      <td>...</td>\n",
       "      <td>...</td>\n",
       "      <td>...</td>\n",
       "    </tr>\n",
       "    <tr>\n",
       "      <th>34219</th>\n",
       "      <td>svi_rpl_theme2_hh_disb</td>\n",
       "      <td>cen_popdensity_2018</td>\n",
       "      <td>0.116198</td>\n",
       "    </tr>\n",
       "    <tr>\n",
       "      <th>34220</th>\n",
       "      <td>svi_rpl_theme3_mino</td>\n",
       "      <td>cen_popdensity_2018</td>\n",
       "      <td>0.154638</td>\n",
       "    </tr>\n",
       "    <tr>\n",
       "      <th>34221</th>\n",
       "      <td>svi_rpl_theme4_hh_trans</td>\n",
       "      <td>cen_popdensity_2018</td>\n",
       "      <td>0.097194</td>\n",
       "    </tr>\n",
       "    <tr>\n",
       "      <th>34222</th>\n",
       "      <td>svi_rpl_themes_all</td>\n",
       "      <td>cen_popdensity_2018</td>\n",
       "      <td>0.020505</td>\n",
       "    </tr>\n",
       "    <tr>\n",
       "      <th>34223</th>\n",
       "      <td>cen_arealand_sqm</td>\n",
       "      <td>cen_popdensity_2018</td>\n",
       "      <td>0.034135</td>\n",
       "    </tr>\n",
       "  </tbody>\n",
       "</table>\n",
       "<p>34040 rows × 3 columns</p>\n",
       "</div>"
      ],
      "text/plain": [
       "                          var1                 var2      corr\n",
       "1               nchs_urcs_2006  ahrf_usda_rucc_2013  0.842705\n",
       "2               nchs_urcs_2013  ahrf_usda_rucc_2013  0.903884\n",
       "3                    territory  ahrf_usda_rucc_2013  0.164745\n",
       "4             acs_total_pop_wt  ahrf_usda_rucc_2013  0.327719\n",
       "5             acs_pct_age_65up  ahrf_usda_rucc_2013  0.421954\n",
       "...                        ...                  ...       ...\n",
       "34219   svi_rpl_theme2_hh_disb  cen_popdensity_2018  0.116198\n",
       "34220      svi_rpl_theme3_mino  cen_popdensity_2018  0.154638\n",
       "34221  svi_rpl_theme4_hh_trans  cen_popdensity_2018  0.097194\n",
       "34222       svi_rpl_themes_all  cen_popdensity_2018  0.020505\n",
       "34223         cen_arealand_sqm  cen_popdensity_2018  0.034135\n",
       "\n",
       "[34040 rows x 3 columns]"
      ]
     },
     "execution_count": 8,
     "metadata": {},
     "output_type": "execute_result"
    }
   ],
   "source": [
    "corr"
   ]
  },
  {
   "cell_type": "markdown",
   "metadata": {},
   "source": [
    "<p>I need to identify the highly correlated variables and limit to just one of the highly correlated variables. I use the threshold of 0.7 to identify highly correlated variables.</p> "
   ]
  },
  {
   "cell_type": "code",
   "execution_count": 9,
   "metadata": {},
   "outputs": [],
   "source": [
    "#create a new dataframe with the variable and its correlations\n",
    "corr_high = corr[['var1','corr']]\n",
    "#set n to 0 for all rows and then update rows with correlation > 0.7 to 1\n",
    "corr_high['n'] = 0\n",
    "corr_high.loc[corr_high['corr'] > .7,'n'] = 1\n",
    "#group by variable and count\n",
    "corr_high = corr_high[['var1','n']].groupby('var1').sum().reset_index()"
   ]
  },
  {
   "cell_type": "markdown",
   "metadata": {},
   "source": [
    "<p>Now, I join with the original dataset with the correlations and sort based upon the count of highly correlated variables.</p>"
   ]
  },
  {
   "cell_type": "code",
   "execution_count": 10,
   "metadata": {},
   "outputs": [],
   "source": [
    "corr = pd.merge(corr, corr_high, on='var1').sort_values('n')"
   ]
  },
  {
   "cell_type": "markdown",
   "metadata": {},
   "source": [
    "<p>I am almost there. I have sorted based upon the count of highly correlated variables. I now loop thru the variables keeping the first variable and throwing the other variables into a list to be excluded.</p>"
   ]
  },
  {
   "cell_type": "code",
   "execution_count": 11,
   "metadata": {},
   "outputs": [],
   "source": [
    "#create list to hold the excluded variables\n",
    "vars_excl = []\n",
    "#loop thru the rows\n",
    "for item in corr.values.tolist():\n",
    "    #append var2 to list if the variables are highly correlated and neither variable is in the list of excluded variables\n",
    "    if item[2] > 0.7 and not (item[0] in vars_excl) and not (item[1] in vars_excl):\n",
    "        vars_excl.append(item[1])"
   ]
  },
  {
   "cell_type": "markdown",
   "metadata": {},
   "source": [
    "<p>I create a final dataset from the list of variables after removing those in our list to be excluded.</p>"
   ]
  },
  {
   "cell_type": "code",
   "execution_count": 12,
   "metadata": {},
   "outputs": [],
   "source": [
    "vars_incl = list(set(vars) - set(vars_excl))\n",
    "sdoh = sdoh[list(sdoh.iloc[:, :5].columns) + vars_incl]"
   ]
  },
  {
   "cell_type": "markdown",
   "metadata": {},
   "source": [
    "<p>Lastly, I need to deal with missing values to build the model. For missing values, I set the value to the mean for the column.</p>"
   ]
  },
  {
   "cell_type": "code",
   "execution_count": 13,
   "metadata": {},
   "outputs": [],
   "source": [
    "for col in sdoh.columns[5:]:\n",
    "    sdoh[col] = sdoh[col].fillna((sdoh[col].mean()))"
   ]
  },
  {
   "cell_type": "markdown",
   "metadata": {},
   "source": [
    "<p>Take a look at the final SDOH dataset.</p>"
   ]
  },
  {
   "cell_type": "code",
   "execution_count": 14,
   "metadata": {},
   "outputs": [
    {
     "data": {
      "text/html": [
       "<div>\n",
       "<style scoped>\n",
       "    .dataframe tbody tr th:only-of-type {\n",
       "        vertical-align: middle;\n",
       "    }\n",
       "\n",
       "    .dataframe tbody tr th {\n",
       "        vertical-align: top;\n",
       "    }\n",
       "\n",
       "    .dataframe thead th {\n",
       "        text-align: right;\n",
       "    }\n",
       "</style>\n",
       "<table border=\"1\" class=\"dataframe\">\n",
       "  <thead>\n",
       "    <tr style=\"text-align: right;\">\n",
       "      <th></th>\n",
       "      <th>state</th>\n",
       "      <th>region</th>\n",
       "      <th>county</th>\n",
       "      <th>fipscode</th>\n",
       "      <th>year</th>\n",
       "      <th>acs_pct_no_veh</th>\n",
       "      <th>acs_pct_commt_29min</th>\n",
       "      <th>svi_rpl_theme2_hh_disb</th>\n",
       "      <th>acs_pct_associate_dgr</th>\n",
       "      <th>acs_pct_nature</th>\n",
       "      <th>...</th>\n",
       "      <th>acs_pct_public_other</th>\n",
       "      <th>acs_pct_1up_rent_1room</th>\n",
       "      <th>acs_pct_grp_qrt</th>\n",
       "      <th>acs_pct_va</th>\n",
       "      <th>acs_pct_other_ins</th>\n",
       "      <th>acs_pct_commt_60minup</th>\n",
       "      <th>acs_pct_grandkid_tot</th>\n",
       "      <th>acs_pct_hh_1pers</th>\n",
       "      <th>acs_pct_nhpi</th>\n",
       "      <th>acs_pct_owner_hh_child</th>\n",
       "    </tr>\n",
       "  </thead>\n",
       "  <tbody>\n",
       "    <tr>\n",
       "      <th>0</th>\n",
       "      <td>Alabama</td>\n",
       "      <td>South</td>\n",
       "      <td>Autauga County</td>\n",
       "      <td>1001</td>\n",
       "      <td>2018</td>\n",
       "      <td>5.641000</td>\n",
       "      <td>37.477000</td>\n",
       "      <td>0.581000</td>\n",
       "      <td>28.392000</td>\n",
       "      <td>0.883000</td>\n",
       "      <td>...</td>\n",
       "      <td>0.221000</td>\n",
       "      <td>1.509000</td>\n",
       "      <td>0.98900</td>\n",
       "      <td>12.283000</td>\n",
       "      <td>7.830000</td>\n",
       "      <td>5.667000</td>\n",
       "      <td>7.50200</td>\n",
       "      <td>25.115000</td>\n",
       "      <td>0.058000</td>\n",
       "      <td>34.128000</td>\n",
       "    </tr>\n",
       "    <tr>\n",
       "      <th>1</th>\n",
       "      <td>Alabama</td>\n",
       "      <td>South</td>\n",
       "      <td>Baldwin County</td>\n",
       "      <td>1003</td>\n",
       "      <td>2018</td>\n",
       "      <td>3.441000</td>\n",
       "      <td>34.123000</td>\n",
       "      <td>0.199000</td>\n",
       "      <td>31.312000</td>\n",
       "      <td>1.328000</td>\n",
       "      <td>...</td>\n",
       "      <td>0.469000</td>\n",
       "      <td>1.842000</td>\n",
       "      <td>1.44800</td>\n",
       "      <td>11.938000</td>\n",
       "      <td>7.566000</td>\n",
       "      <td>7.855000</td>\n",
       "      <td>9.81700</td>\n",
       "      <td>30.390000</td>\n",
       "      <td>0.004000</td>\n",
       "      <td>24.981000</td>\n",
       "    </tr>\n",
       "    <tr>\n",
       "      <th>2</th>\n",
       "      <td>Alabama</td>\n",
       "      <td>South</td>\n",
       "      <td>Barbour County</td>\n",
       "      <td>1005</td>\n",
       "      <td>2018</td>\n",
       "      <td>9.242000</td>\n",
       "      <td>28.231000</td>\n",
       "      <td>0.915300</td>\n",
       "      <td>25.125000</td>\n",
       "      <td>4.518000</td>\n",
       "      <td>...</td>\n",
       "      <td>1.093000</td>\n",
       "      <td>3.412000</td>\n",
       "      <td>11.24800</td>\n",
       "      <td>7.672000</td>\n",
       "      <td>7.862000</td>\n",
       "      <td>8.022000</td>\n",
       "      <td>14.77200</td>\n",
       "      <td>32.550000</td>\n",
       "      <td>0.004000</td>\n",
       "      <td>24.078000</td>\n",
       "    </tr>\n",
       "    <tr>\n",
       "      <th>3</th>\n",
       "      <td>Alabama</td>\n",
       "      <td>South</td>\n",
       "      <td>Bibb County</td>\n",
       "      <td>1007</td>\n",
       "      <td>2018</td>\n",
       "      <td>5.994000</td>\n",
       "      <td>23.792000</td>\n",
       "      <td>0.120300</td>\n",
       "      <td>24.373000</td>\n",
       "      <td>5.988000</td>\n",
       "      <td>...</td>\n",
       "      <td>0.415000</td>\n",
       "      <td>0.997000</td>\n",
       "      <td>9.28200</td>\n",
       "      <td>7.152000</td>\n",
       "      <td>7.763000</td>\n",
       "      <td>8.852000</td>\n",
       "      <td>21.55000</td>\n",
       "      <td>25.965000</td>\n",
       "      <td>0.000000</td>\n",
       "      <td>28.549000</td>\n",
       "    </tr>\n",
       "    <tr>\n",
       "      <th>4</th>\n",
       "      <td>Alabama</td>\n",
       "      <td>South</td>\n",
       "      <td>Blount County</td>\n",
       "      <td>1009</td>\n",
       "      <td>2018</td>\n",
       "      <td>4.155000</td>\n",
       "      <td>19.864000</td>\n",
       "      <td>0.318700</td>\n",
       "      <td>33.480000</td>\n",
       "      <td>2.281000</td>\n",
       "      <td>...</td>\n",
       "      <td>0.801000</td>\n",
       "      <td>1.249000</td>\n",
       "      <td>0.94200</td>\n",
       "      <td>8.532000</td>\n",
       "      <td>6.846000</td>\n",
       "      <td>17.953000</td>\n",
       "      <td>10.73700</td>\n",
       "      <td>24.709000</td>\n",
       "      <td>0.031000</td>\n",
       "      <td>30.765000</td>\n",
       "    </tr>\n",
       "    <tr>\n",
       "      <th>...</th>\n",
       "      <td>...</td>\n",
       "      <td>...</td>\n",
       "      <td>...</td>\n",
       "      <td>...</td>\n",
       "      <td>...</td>\n",
       "      <td>...</td>\n",
       "      <td>...</td>\n",
       "      <td>...</td>\n",
       "      <td>...</td>\n",
       "      <td>...</td>\n",
       "      <td>...</td>\n",
       "      <td>...</td>\n",
       "      <td>...</td>\n",
       "      <td>...</td>\n",
       "      <td>...</td>\n",
       "      <td>...</td>\n",
       "      <td>...</td>\n",
       "      <td>...</td>\n",
       "      <td>...</td>\n",
       "      <td>...</td>\n",
       "      <td>...</td>\n",
       "    </tr>\n",
       "    <tr>\n",
       "      <th>3219</th>\n",
       "      <td>Puerto Rico</td>\n",
       "      <td>NaN</td>\n",
       "      <td>Yabucoa Municipio</td>\n",
       "      <td>72151</td>\n",
       "      <td>2018</td>\n",
       "      <td>17.233000</td>\n",
       "      <td>33.662000</td>\n",
       "      <td>0.499959</td>\n",
       "      <td>26.263000</td>\n",
       "      <td>1.019000</td>\n",
       "      <td>...</td>\n",
       "      <td>0.484000</td>\n",
       "      <td>2.042000</td>\n",
       "      <td>0.21400</td>\n",
       "      <td>2.280000</td>\n",
       "      <td>1.460000</td>\n",
       "      <td>13.939000</td>\n",
       "      <td>16.28100</td>\n",
       "      <td>26.710000</td>\n",
       "      <td>0.000000</td>\n",
       "      <td>23.004000</td>\n",
       "    </tr>\n",
       "    <tr>\n",
       "      <th>3220</th>\n",
       "      <td>Puerto Rico</td>\n",
       "      <td>NaN</td>\n",
       "      <td>Yauco Municipio</td>\n",
       "      <td>72153</td>\n",
       "      <td>2018</td>\n",
       "      <td>15.505000</td>\n",
       "      <td>27.019000</td>\n",
       "      <td>0.499959</td>\n",
       "      <td>16.061000</td>\n",
       "      <td>5.424000</td>\n",
       "      <td>...</td>\n",
       "      <td>0.568000</td>\n",
       "      <td>1.360000</td>\n",
       "      <td>0.69400</td>\n",
       "      <td>2.814000</td>\n",
       "      <td>3.029000</td>\n",
       "      <td>4.917000</td>\n",
       "      <td>18.61100</td>\n",
       "      <td>32.743000</td>\n",
       "      <td>0.000000</td>\n",
       "      <td>19.268000</td>\n",
       "    </tr>\n",
       "    <tr>\n",
       "      <th>3221</th>\n",
       "      <td>US Virgin Islands</td>\n",
       "      <td>NaN</td>\n",
       "      <td>St. Croix Island</td>\n",
       "      <td>78010</td>\n",
       "      <td>2018</td>\n",
       "      <td>6.581605</td>\n",
       "      <td>29.996784</td>\n",
       "      <td>0.499959</td>\n",
       "      <td>30.506273</td>\n",
       "      <td>6.579082</td>\n",
       "      <td>...</td>\n",
       "      <td>0.741879</td>\n",
       "      <td>4.249307</td>\n",
       "      <td>3.45936</td>\n",
       "      <td>8.761711</td>\n",
       "      <td>6.352058</td>\n",
       "      <td>7.977522</td>\n",
       "      <td>8.79561</td>\n",
       "      <td>28.253058</td>\n",
       "      <td>0.092751</td>\n",
       "      <td>27.047302</td>\n",
       "    </tr>\n",
       "    <tr>\n",
       "      <th>3222</th>\n",
       "      <td>US Virgin Islands</td>\n",
       "      <td>NaN</td>\n",
       "      <td>St. John Island</td>\n",
       "      <td>78020</td>\n",
       "      <td>2018</td>\n",
       "      <td>6.581605</td>\n",
       "      <td>29.996784</td>\n",
       "      <td>0.499959</td>\n",
       "      <td>30.506273</td>\n",
       "      <td>6.579082</td>\n",
       "      <td>...</td>\n",
       "      <td>0.741879</td>\n",
       "      <td>4.249307</td>\n",
       "      <td>3.45936</td>\n",
       "      <td>8.761711</td>\n",
       "      <td>6.352058</td>\n",
       "      <td>7.977522</td>\n",
       "      <td>8.79561</td>\n",
       "      <td>28.253058</td>\n",
       "      <td>0.092751</td>\n",
       "      <td>27.047302</td>\n",
       "    </tr>\n",
       "    <tr>\n",
       "      <th>3223</th>\n",
       "      <td>US Virgin Islands</td>\n",
       "      <td>NaN</td>\n",
       "      <td>St. Thomas Island</td>\n",
       "      <td>78030</td>\n",
       "      <td>2018</td>\n",
       "      <td>6.581605</td>\n",
       "      <td>29.996784</td>\n",
       "      <td>0.499959</td>\n",
       "      <td>30.506273</td>\n",
       "      <td>6.579082</td>\n",
       "      <td>...</td>\n",
       "      <td>0.741879</td>\n",
       "      <td>4.249307</td>\n",
       "      <td>3.45936</td>\n",
       "      <td>8.761711</td>\n",
       "      <td>6.352058</td>\n",
       "      <td>7.977522</td>\n",
       "      <td>8.79561</td>\n",
       "      <td>28.253058</td>\n",
       "      <td>0.092751</td>\n",
       "      <td>27.047302</td>\n",
       "    </tr>\n",
       "  </tbody>\n",
       "</table>\n",
       "<p>3224 rows × 115 columns</p>\n",
       "</div>"
      ],
      "text/plain": [
       "                  state region             county  fipscode  year  \\\n",
       "0               Alabama  South     Autauga County      1001  2018   \n",
       "1               Alabama  South     Baldwin County      1003  2018   \n",
       "2               Alabama  South     Barbour County      1005  2018   \n",
       "3               Alabama  South        Bibb County      1007  2018   \n",
       "4               Alabama  South      Blount County      1009  2018   \n",
       "...                 ...    ...                ...       ...   ...   \n",
       "3219        Puerto Rico    NaN  Yabucoa Municipio     72151  2018   \n",
       "3220        Puerto Rico    NaN    Yauco Municipio     72153  2018   \n",
       "3221  US Virgin Islands    NaN   St. Croix Island     78010  2018   \n",
       "3222  US Virgin Islands    NaN    St. John Island     78020  2018   \n",
       "3223  US Virgin Islands    NaN  St. Thomas Island     78030  2018   \n",
       "\n",
       "      acs_pct_no_veh  acs_pct_commt_29min  svi_rpl_theme2_hh_disb  \\\n",
       "0           5.641000            37.477000                0.581000   \n",
       "1           3.441000            34.123000                0.199000   \n",
       "2           9.242000            28.231000                0.915300   \n",
       "3           5.994000            23.792000                0.120300   \n",
       "4           4.155000            19.864000                0.318700   \n",
       "...              ...                  ...                     ...   \n",
       "3219       17.233000            33.662000                0.499959   \n",
       "3220       15.505000            27.019000                0.499959   \n",
       "3221        6.581605            29.996784                0.499959   \n",
       "3222        6.581605            29.996784                0.499959   \n",
       "3223        6.581605            29.996784                0.499959   \n",
       "\n",
       "      acs_pct_associate_dgr  acs_pct_nature  ...  acs_pct_public_other  \\\n",
       "0                 28.392000        0.883000  ...              0.221000   \n",
       "1                 31.312000        1.328000  ...              0.469000   \n",
       "2                 25.125000        4.518000  ...              1.093000   \n",
       "3                 24.373000        5.988000  ...              0.415000   \n",
       "4                 33.480000        2.281000  ...              0.801000   \n",
       "...                     ...             ...  ...                   ...   \n",
       "3219              26.263000        1.019000  ...              0.484000   \n",
       "3220              16.061000        5.424000  ...              0.568000   \n",
       "3221              30.506273        6.579082  ...              0.741879   \n",
       "3222              30.506273        6.579082  ...              0.741879   \n",
       "3223              30.506273        6.579082  ...              0.741879   \n",
       "\n",
       "      acs_pct_1up_rent_1room  acs_pct_grp_qrt  acs_pct_va  acs_pct_other_ins  \\\n",
       "0                   1.509000          0.98900   12.283000           7.830000   \n",
       "1                   1.842000          1.44800   11.938000           7.566000   \n",
       "2                   3.412000         11.24800    7.672000           7.862000   \n",
       "3                   0.997000          9.28200    7.152000           7.763000   \n",
       "4                   1.249000          0.94200    8.532000           6.846000   \n",
       "...                      ...              ...         ...                ...   \n",
       "3219                2.042000          0.21400    2.280000           1.460000   \n",
       "3220                1.360000          0.69400    2.814000           3.029000   \n",
       "3221                4.249307          3.45936    8.761711           6.352058   \n",
       "3222                4.249307          3.45936    8.761711           6.352058   \n",
       "3223                4.249307          3.45936    8.761711           6.352058   \n",
       "\n",
       "      acs_pct_commt_60minup  acs_pct_grandkid_tot  acs_pct_hh_1pers  \\\n",
       "0                  5.667000               7.50200         25.115000   \n",
       "1                  7.855000               9.81700         30.390000   \n",
       "2                  8.022000              14.77200         32.550000   \n",
       "3                  8.852000              21.55000         25.965000   \n",
       "4                 17.953000              10.73700         24.709000   \n",
       "...                     ...                   ...               ...   \n",
       "3219              13.939000              16.28100         26.710000   \n",
       "3220               4.917000              18.61100         32.743000   \n",
       "3221               7.977522               8.79561         28.253058   \n",
       "3222               7.977522               8.79561         28.253058   \n",
       "3223               7.977522               8.79561         28.253058   \n",
       "\n",
       "      acs_pct_nhpi  acs_pct_owner_hh_child  \n",
       "0         0.058000               34.128000  \n",
       "1         0.004000               24.981000  \n",
       "2         0.004000               24.078000  \n",
       "3         0.000000               28.549000  \n",
       "4         0.031000               30.765000  \n",
       "...            ...                     ...  \n",
       "3219      0.000000               23.004000  \n",
       "3220      0.000000               19.268000  \n",
       "3221      0.092751               27.047302  \n",
       "3222      0.092751               27.047302  \n",
       "3223      0.092751               27.047302  \n",
       "\n",
       "[3224 rows x 115 columns]"
      ]
     },
     "execution_count": 14,
     "metadata": {},
     "output_type": "execute_result"
    }
   ],
   "source": [
    "sdoh"
   ]
  },
  {
   "cell_type": "markdown",
   "metadata": {},
   "source": [
    "<p>I join the enrollment and SDOH data on the county codes. Then, I take the weighted average using the enrollment and SDOH variables.</p>"
   ]
  },
  {
   "cell_type": "code",
   "execution_count": 15,
   "metadata": {},
   "outputs": [],
   "source": [
    "import numpy as np\n",
    "\n",
    "#merge the enrollment and SDOH datasetws on the county code\n",
    "contract_n_county_x_sdoh = pd.merge(enroll, sdoh, left_on=\"fips_state_county_code\", right_on=\"fipscode\", how=\"inner\")\n",
    "#group the enrollment data by contract and sum\n",
    "contract_x_sdoh = enroll[['contract_number','enrollment']].groupby('contract_number').sum().reset_index()\n",
    "#group by the contract\n",
    "contracts=contract_n_county_x_sdoh.groupby('contract_number')\n",
    "\n",
    "#loop over columns\n",
    "for col in contract_n_county_x_sdoh.columns[12:]:\n",
    "    #calculate the weigted average for column\n",
    "    wt_avg = contracts.apply(lambda x: np.average(x[col], weights=x.enrollment)).reset_index()\n",
    "    #rename to the original column name\n",
    "    wt_avg = wt_avg.rename(columns={0:col})\n",
    "    #add column to dataset grouped by contract\n",
    "    contract_x_sdoh = pd.merge(contract_x_sdoh, wt_avg, how='outer', on=['contract_number'])"
   ]
  },
  {
   "cell_type": "markdown",
   "metadata": {},
   "source": [
    "<p>Now, I need to read the Star Ratings data into a dataframe. I've also used a converter to remove some spaces after the contract IDs and renamed some of the columns.</p>"
   ]
  },
  {
   "cell_type": "code",
   "execution_count": 16,
   "metadata": {},
   "outputs": [],
   "source": [
    "import pandas as pd\n",
    "import numpy as np\n",
    "import re\n",
    "\n",
    "#update with your own path; prefix your string for paths with r in windows\n",
    "file = r'D:\\projects\\python\\risk adj\\2022 Star Ratings Data Table - Measure Data (Oct 06 2021).csv'\n",
    "\n",
    "#read the CSV file; converter strip an whitespace from contract_id\n",
    "stars = pd.read_csv(file, skiprows=lambda x: x in [0,1,3], converters={'Unnamed: 0': lambda x: x.strip()})\n",
    "#rename some columns\n",
    "stars = stars.rename({'Unnamed: 0':'CONTRACT_ID','Unnamed: 1':'Organization Type','Unnamed: 2':'Contract Name','Unnamed: 3':'Organization Marketing Name','Unnamed: 4':'Parent Organization'}, axis='columns')\n",
    "stars = stars.rename(columns=lambda x: re.sub(\"\\s+\", \"_\", re.sub('[^A-Za-z0-9\\s]+',' ', x.lower()).strip()))"
   ]
  },
  {
   "cell_type": "markdown",
   "metadata": {},
   "source": [
    "<p>I create a new column for the contract type. The contract type is determined by looking at the first character of the contract ID.</p>"
   ]
  },
  {
   "cell_type": "code",
   "execution_count": 17,
   "metadata": {},
   "outputs": [],
   "source": [
    "#create column for contract type\n",
    "stars['contract_type'] = stars['contract_id'].apply(lambda x: 'MAPD' if x[0] == 'H' or x[0] == 'R' else 'PDP')"
   ]
  },
  {
   "cell_type": "markdown",
   "metadata": {},
   "source": [
    "<p>Next, I need to transform and clean up the data a bit. I use the melt() function to reorient the data and create a column for the measure name and rate.</p>"
   ]
  },
  {
   "cell_type": "code",
   "execution_count": 18,
   "metadata": {},
   "outputs": [],
   "source": [
    "#transform columns for measure rates to rows for measure and rate\n",
    "stars = pd.melt(stars, id_vars=['contract_id', 'contract_name', 'organization_marketing_name', 'organization_type', 'parent_organization', 'contract_type'], var_name='measure', value_name='rate')"
   ]
  },
  {
   "cell_type": "markdown",
   "metadata": {},
   "source": [
    "<p>Then, I apply a function that attempts to convert the rates to numbers and drops contracts without a rate.</p>"
   ]
  },
  {
   "cell_type": "code",
   "execution_count": 19,
   "metadata": {},
   "outputs": [],
   "source": [
    "def try_number(str):\n",
    "    if '%' in str:\n",
    "        return float(str.strip('%'))/100\n",
    "    elif not any(c.isalpha() for c in str):\n",
    "        return float(str)\n",
    "    else:\n",
    "        return np.nan\n",
    "    \n",
    "#convert rate to number\n",
    "stars['rate'] = stars['rate'].apply(try_number)\n",
    "#drop any rows where the contract did not receive a rate\n",
    "stars = stars.dropna()\n",
    "#sort by measure and rate\n",
    "stars = stars.sort_values(['measure','rate'])"
   ]
  },
  {
   "cell_type": "markdown",
   "metadata": {},
   "source": [
    "<p>For the purpose of this tutorial, I have limited the analysis to MAPD contracts and the Statin Use in Persons with Diabetes (SUPD) measure.</p>"
   ]
  },
  {
   "cell_type": "code",
   "execution_count": 20,
   "metadata": {},
   "outputs": [],
   "source": [
    "supd = stars[(stars['measure'] == 'd12_statin_use_in_persons_with_diabetes_supd') & (stars['contract_type'] == 'MAPD')].copy(deep=True)"
   ]
  },
  {
   "cell_type": "markdown",
   "metadata": {},
   "source": [
    "<p>To test for normality, I plot the data and calculate the skew. I am looking for skew between -0.5 and 0.5.</p>"
   ]
  },
  {
   "cell_type": "code",
   "execution_count": 21,
   "metadata": {},
   "outputs": [
    {
     "data": {
      "image/png": "[encoded data removed]",
      "text/plain": [
       "<Figure size 432x288 with 1 Axes>"
      ]
     },
     "metadata": {
      "needs_background": "light"
     },
     "output_type": "display_data"
    },
    {
     "name": "stdout",
     "output_type": "stream",
     "text": [
      "skew:  -0.3379261227466864\n"
     ]
    }
   ],
   "source": [
    "import matplotlib.pyplot as plt\n",
    "\n",
    "plt.hist(supd['rate'])\n",
    "plt.show()\n",
    "print('skew: ', supd['rate'].skew())"
   ]
  },
  {
   "cell_type": "markdown",
   "metadata": {},
   "source": [
    "<p>Although not terrible, I try applying several different function to tranform the data and see if I can make it more normally distributed.</p>\n",
    "<p><i>Note: Although I didn't do it for this tutorial, you may consider transforming the independent variables to make them more normally distributed as well.</i></p>"
   ]
  },
  {
   "cell_type": "code",
   "execution_count": 22,
   "metadata": {},
   "outputs": [
    {
     "name": "stdout",
     "output_type": "stream",
     "text": [
      "sqrt -0.4755412922079663\n"
     ]
    },
    {
     "data": {
      "image/png": "[encoded data removed]",
      "text/plain": [
       "<Figure size 432x288 with 1 Axes>"
      ]
     },
     "metadata": {
      "needs_background": "light"
     },
     "output_type": "display_data"
    },
    {
     "name": "stdout",
     "output_type": "stream",
     "text": [
      "log -0.6225758106286644\n"
     ]
    },
    {
     "data": {
      "image/png": "[encoded data removed]",
      "text/plain": [
       "<Figure size 432x288 with 1 Axes>"
      ]
     },
     "metadata": {
      "needs_background": "light"
     },
     "output_type": "display_data"
    },
    {
     "name": "stdout",
     "output_type": "stream",
     "text": [
      "norm -0.33792612274668726\n"
     ]
    },
    {
     "data": {
      "image/png": "[encoded data removed]",
      "text/plain": [
       "<Figure size 432x288 with 1 Axes>"
      ]
     },
     "metadata": {
      "needs_background": "light"
     },
     "output_type": "display_data"
    },
    {
     "name": "stdout",
     "output_type": "stream",
     "text": [
      "lognorm -0.45963523291746566\n"
     ]
    },
    {
     "data": {
      "image/png": "[encoded data removed]",
      "text/plain": [
       "<Figure size 432x288 with 1 Axes>"
      ]
     },
     "metadata": {
      "needs_background": "light"
     },
     "output_type": "display_data"
    },
    {
     "name": "stdout",
     "output_type": "stream",
     "text": [
      "boxcox 0    0.045419\n",
      "dtype: float64\n"
     ]
    },
    {
     "data": {
      "image/png": "[encoded data removed]",
      "text/plain": [
       "<Figure size 432x288 with 1 Axes>"
      ]
     },
     "metadata": {
      "needs_background": "light"
     },
     "output_type": "display_data"
    }
   ],
   "source": [
    "import matplotlib.pyplot as plt\n",
    "import scipy.stats as stats\n",
    "\n",
    "def norm(col):\n",
    "    return (1+col)/2\n",
    "\n",
    "def lognorm(col):\n",
    "    return np.log(norm(col))\n",
    "\n",
    "def boxcox(col):\n",
    "     return pd.DataFrame(stats.boxcox(col)[0])\n",
    "\n",
    "for fun in [np.sqrt, np.log, norm, lognorm, boxcox]:\n",
    "    rate_norm = fun(supd['rate'])\n",
    "    print(fun.__name__, rate_norm.skew())\n",
    "    plt.hist(rate_norm)\n",
    "    plt.show()"
   ]
  },
  {
   "cell_type": "markdown",
   "metadata": {},
   "source": [
    "<p>The Box-Cox power transformation is best so will use that in my model.<p>"
   ]
  },
  {
   "cell_type": "code",
   "execution_count": 23,
   "metadata": {
    "scrolled": true
   },
   "outputs": [],
   "source": [
    "supd['rate_norm'], lmbda = stats.boxcox(supd['rate'])"
   ]
  },
  {
   "cell_type": "markdown",
   "metadata": {},
   "source": [
    "<p>My data is ready to go so join the SDOH and SUPD datasets to create our training dataset. I fill any missing values with 0.</p>"
   ]
  },
  {
   "cell_type": "code",
   "execution_count": 24,
   "metadata": {
    "scrolled": true
   },
   "outputs": [],
   "source": [
    "training = pd.merge(contract_x_sdoh, supd, left_on=['contract_number'], right_on=['contract_id'], how='inner').drop(columns = ['contract_name','organization_marketing_name','organization_type'])\n",
    "training = training.fillna(0)"
   ]
  },
  {
   "cell_type": "markdown",
   "metadata": {},
   "source": [
    "<p>I need to identify the optimal number of features for training my linear regression model so run sequential feature selection for an increasing number of features up to 20.</p>\n",
    "<p>Forward selection is used by default. And, I use the R<sup>2</sup> to score the models.</p>"
   ]
  },
  {
   "cell_type": "code",
   "execution_count": 25,
   "metadata": {},
   "outputs": [],
   "source": [
    "from sklearn.feature_selection import SequentialFeatureSelector\n",
    "from sklearn import linear_model\n",
    "\n",
    "x = training.iloc[:, 2:-6]\n",
    "y = training['rate_norm']\n",
    "\n",
    "features = pd.DataFrame({'n':[], 'r2':[]})\n",
    "for i in range(1, 21, 1):\n",
    "    regr = linear_model.LinearRegression()\n",
    "    sfs = SequentialFeatureSelector(regr, n_features_to_select=i, scoring='r2')\n",
    "    x_selected = sfs.fit_transform(x, y)\n",
    "    regr.fit(x_selected, y)\n",
    "    features = features.append({'n': i, 'r2': regr.score(x_selected, y)}, ignore_index=True)"
   ]
  },
  {
   "cell_type": "markdown",
   "metadata": {},
   "source": [
    "<p>The graph shows that 7 features is the sweet spot for minimizing the features and maximizing the R<sup>2</sup>.</p>"
   ]
  },
  {
   "cell_type": "code",
   "execution_count": 26,
   "metadata": {},
   "outputs": [
    {
     "data": {
      "image/png": "[encoded data removed]",
      "text/plain": [
       "<Figure size 432x288 with 1 Axes>"
      ]
     },
     "metadata": {
      "needs_background": "light"
     },
     "output_type": "display_data"
    }
   ],
   "source": [
    "import matplotlib.pyplot as plt\n",
    "\n",
    "plt.scatter(features['n'], features['r2'])\n",
    "z = np.polyfit(features['n'], features['r2'], 2)\n",
    "p = np.poly1d(z)\n",
    "plt.xlabel(\"Number of Features\")\n",
    "plt.ylabel(\"R2\")\n",
    "plt.xticks(features['n'])\n",
    "plt.plot(features['n'], p(features['n']), \"r--\")\n",
    "plt.show()"
   ]
  },
  {
   "cell_type": "markdown",
   "metadata": {},
   "source": [
    "<p>I rerun sequential feature section using 7 features and reduce to the features selected.</p>"
   ]
  },
  {
   "cell_type": "code",
   "execution_count": 27,
   "metadata": {},
   "outputs": [],
   "source": [
    "regr = linear_model.LinearRegression()\n",
    "sfs = SequentialFeatureSelector(regr, n_features_to_select=7, scoring='r2')\n",
    "x_selected = sfs.fit_transform(x, y)"
   ]
  },
  {
   "cell_type": "markdown",
   "metadata": {},
   "source": [
    "<p>The table below shows the features selected for the model and some additional information from the <a href=\"https://www.ahrq.gov/sites/default/files/wysiwyg/sdohchallenge/data/sdoh_codebook_final.xlsx\">Variable Codebook</a>.</p>\n",
    "<table>\n",
    "    <tr><th>Topic</th><th>Variable_Name</th><th>Variable_Label</th></tr>\n",
    "    <tr><td>Demographics</td><td>ACS_PCT_NONCTN_2010</td><td>Percentage of population who are not U.S. citizens and entered U.S. since 2010</td></tr>\n",
    "    <tr><td>Living Conditions</td><td>ACS_PCT_DIVORCE_SEPARAT</td><td>Percentage of population divorced or separated (ages 15 and over)</td></tr>\n",
    "    <tr><td>Workforce / Employment</td><td>ACS_PCT_VA_LABOR_FORCE</td><td>Percentage of civilian veterans in labor force (ages 18–64)</td></tr>\n",
    "    <tr><td>Income</td><td>ACS_PCT_1FAM_HH_FOOD_STMP</td><td>Percentage of unmarried partner households that received food stamps/Supplemental Nutrition Assistance Program (SNAP) benefits</td></tr>\n",
    "    <tr><td>Transportation</td><td>ACS_PCT_COMMT_15MIN</td><td>Percentage of workers with < 15-minute commute time (ages 16 and over)</td></tr>\n",
    "    <tr><td>Access</td><td>AHRF_HPSA_PRIM</td><td>HPSA code—shortage of primary care physicians</td></tr>\n",
    "    <tr><td>Access</td><td>MP_PERCPEN</td><td>Derived field that equals the ratio of enrollees over eligibles * 100</td></tr>\n",
    "</table>"
   ]
  },
  {
   "cell_type": "code",
   "execution_count": 28,
   "metadata": {},
   "outputs": [
    {
     "data": {
      "text/plain": [
       "['acs_pct_divorce_separat',\n",
       " 'mp_percpen',\n",
       " 'ahrf_hpsa_prim',\n",
       " 'acs_pct_commt_15min',\n",
       " 'acs_pct_nonctn_2010',\n",
       " 'acs_pct_1fam_hh_food_stmp',\n",
       " 'acs_pct_va']"
      ]
     },
     "execution_count": 28,
     "metadata": {},
     "output_type": "execute_result"
    }
   ],
   "source": [
    "list(x.iloc[:, sfs.get_support()].columns)"
   ]
  },
  {
   "cell_type": "markdown",
   "metadata": {},
   "source": [
    "<p>I fit the regression model to the selected features, predict the values using the model, and then reverse the Box-Cox transformation.</p>"
   ]
  },
  {
   "cell_type": "code",
   "execution_count": 29,
   "metadata": {},
   "outputs": [],
   "source": [
    "import scipy.special as sp\n",
    "\n",
    "#fit the model\n",
    "regr.fit(x_selected, y)\n",
    "#predict the scores with the model\n",
    "rate_pred = regr.predict(x_selected)\n",
    "#reverse the Box-Cox transformation\n",
    "training['rate_pred'] = sp.inv_boxcox(rate_pred, lmbda)"
   ]
  },
  {
   "cell_type": "markdown",
   "metadata": {},
   "source": [
    "<p>I calculate the average rate using a weighted average.</p>"
   ]
  },
  {
   "cell_type": "code",
   "execution_count": 30,
   "metadata": {},
   "outputs": [
    {
     "data": {
      "text/html": [
       "<div>\n",
       "<style scoped>\n",
       "    .dataframe tbody tr th:only-of-type {\n",
       "        vertical-align: middle;\n",
       "    }\n",
       "\n",
       "    .dataframe tbody tr th {\n",
       "        vertical-align: top;\n",
       "    }\n",
       "\n",
       "    .dataframe thead th {\n",
       "        text-align: right;\n",
       "    }\n",
       "</style>\n",
       "<table border=\"1\" class=\"dataframe\">\n",
       "  <thead>\n",
       "    <tr style=\"text-align: right;\">\n",
       "      <th></th>\n",
       "      <th>contract_number</th>\n",
       "      <th>enrollment</th>\n",
       "      <th>acs_pct_no_veh</th>\n",
       "      <th>acs_pct_commt_29min</th>\n",
       "      <th>svi_rpl_theme2_hh_disb</th>\n",
       "      <th>acs_pct_associate_dgr</th>\n",
       "      <th>acs_pct_nature</th>\n",
       "      <th>acs_pct_age_15_17</th>\n",
       "      <th>acs_pct_educ</th>\n",
       "      <th>acs_pct_api_lang</th>\n",
       "      <th>...</th>\n",
       "      <th>acs_pct_hh_1pers</th>\n",
       "      <th>acs_pct_nhpi</th>\n",
       "      <th>acs_pct_owner_hh_child</th>\n",
       "      <th>contract_id</th>\n",
       "      <th>parent_organization</th>\n",
       "      <th>contract_type</th>\n",
       "      <th>measure</th>\n",
       "      <th>rate</th>\n",
       "      <th>rate_norm</th>\n",
       "      <th>rate_pred</th>\n",
       "    </tr>\n",
       "  </thead>\n",
       "  <tbody>\n",
       "    <tr>\n",
       "      <th>0</th>\n",
       "      <td>H0028</td>\n",
       "      <td>340598</td>\n",
       "      <td>5.910785</td>\n",
       "      <td>38.106586</td>\n",
       "      <td>0.397531</td>\n",
       "      <td>31.024918</td>\n",
       "      <td>1.887378</td>\n",
       "      <td>4.076312</td>\n",
       "      <td>22.044589</td>\n",
       "      <td>2.682903</td>\n",
       "      <td>...</td>\n",
       "      <td>26.809484</td>\n",
       "      <td>0.344132</td>\n",
       "      <td>32.112275</td>\n",
       "      <td>H0028</td>\n",
       "      <td>Humana Inc.</td>\n",
       "      <td>MAPD</td>\n",
       "      <td>d12_statin_use_in_persons_with_diabetes_supd</td>\n",
       "      <td>0.84</td>\n",
       "      <td>-0.140597</td>\n",
       "      <td>0.825054</td>\n",
       "    </tr>\n",
       "    <tr>\n",
       "      <th>1</th>\n",
       "      <td>H0062</td>\n",
       "      <td>2944</td>\n",
       "      <td>6.717585</td>\n",
       "      <td>44.098061</td>\n",
       "      <td>0.643300</td>\n",
       "      <td>24.796469</td>\n",
       "      <td>2.575842</td>\n",
       "      <td>5.070264</td>\n",
       "      <td>28.075170</td>\n",
       "      <td>1.394048</td>\n",
       "      <td>...</td>\n",
       "      <td>19.914386</td>\n",
       "      <td>0.046782</td>\n",
       "      <td>42.370965</td>\n",
       "      <td>H0062</td>\n",
       "      <td>Centene Corporation</td>\n",
       "      <td>MAPD</td>\n",
       "      <td>d12_statin_use_in_persons_with_diabetes_supd</td>\n",
       "      <td>0.88</td>\n",
       "      <td>-0.108998</td>\n",
       "      <td>0.857331</td>\n",
       "    </tr>\n",
       "    <tr>\n",
       "      <th>2</th>\n",
       "      <td>H0104</td>\n",
       "      <td>89089</td>\n",
       "      <td>6.040407</td>\n",
       "      <td>37.577188</td>\n",
       "      <td>0.525280</td>\n",
       "      <td>29.925608</td>\n",
       "      <td>1.726311</td>\n",
       "      <td>3.974771</td>\n",
       "      <td>22.077368</td>\n",
       "      <td>0.770110</td>\n",
       "      <td>...</td>\n",
       "      <td>29.279129</td>\n",
       "      <td>0.042495</td>\n",
       "      <td>27.881597</td>\n",
       "      <td>H0104</td>\n",
       "      <td>BlueCross BlueShield of Alabama</td>\n",
       "      <td>MAPD</td>\n",
       "      <td>d12_statin_use_in_persons_with_diabetes_supd</td>\n",
       "      <td>0.80</td>\n",
       "      <td>-0.169927</td>\n",
       "      <td>0.822678</td>\n",
       "    </tr>\n",
       "    <tr>\n",
       "      <th>3</th>\n",
       "      <td>H0107</td>\n",
       "      <td>14881</td>\n",
       "      <td>4.784203</td>\n",
       "      <td>39.043616</td>\n",
       "      <td>0.231744</td>\n",
       "      <td>32.145580</td>\n",
       "      <td>4.168727</td>\n",
       "      <td>3.522629</td>\n",
       "      <td>23.572003</td>\n",
       "      <td>0.601140</td>\n",
       "      <td>...</td>\n",
       "      <td>29.912976</td>\n",
       "      <td>0.076981</td>\n",
       "      <td>27.113348</td>\n",
       "      <td>H0107</td>\n",
       "      <td>Health Care Service Corporation</td>\n",
       "      <td>MAPD</td>\n",
       "      <td>d12_statin_use_in_persons_with_diabetes_supd</td>\n",
       "      <td>0.79</td>\n",
       "      <td>-0.176913</td>\n",
       "      <td>0.770099</td>\n",
       "    </tr>\n",
       "    <tr>\n",
       "      <th>4</th>\n",
       "      <td>H0111</td>\n",
       "      <td>4981</td>\n",
       "      <td>6.475404</td>\n",
       "      <td>36.923689</td>\n",
       "      <td>0.448879</td>\n",
       "      <td>30.306813</td>\n",
       "      <td>0.535472</td>\n",
       "      <td>4.114682</td>\n",
       "      <td>21.363434</td>\n",
       "      <td>2.152922</td>\n",
       "      <td>...</td>\n",
       "      <td>26.753538</td>\n",
       "      <td>0.096129</td>\n",
       "      <td>31.332355</td>\n",
       "      <td>H0111</td>\n",
       "      <td>Centene Corporation</td>\n",
       "      <td>MAPD</td>\n",
       "      <td>d12_statin_use_in_persons_with_diabetes_supd</td>\n",
       "      <td>0.78</td>\n",
       "      <td>-0.183762</td>\n",
       "      <td>0.831297</td>\n",
       "    </tr>\n",
       "    <tr>\n",
       "      <th>...</th>\n",
       "      <td>...</td>\n",
       "      <td>...</td>\n",
       "      <td>...</td>\n",
       "      <td>...</td>\n",
       "      <td>...</td>\n",
       "      <td>...</td>\n",
       "      <td>...</td>\n",
       "      <td>...</td>\n",
       "      <td>...</td>\n",
       "      <td>...</td>\n",
       "      <td>...</td>\n",
       "      <td>...</td>\n",
       "      <td>...</td>\n",
       "      <td>...</td>\n",
       "      <td>...</td>\n",
       "      <td>...</td>\n",
       "      <td>...</td>\n",
       "      <td>...</td>\n",
       "      <td>...</td>\n",
       "      <td>...</td>\n",
       "      <td>...</td>\n",
       "    </tr>\n",
       "    <tr>\n",
       "      <th>536</th>\n",
       "      <td>R6694</td>\n",
       "      <td>3472</td>\n",
       "      <td>8.732237</td>\n",
       "      <td>35.571884</td>\n",
       "      <td>0.284978</td>\n",
       "      <td>26.245304</td>\n",
       "      <td>0.675984</td>\n",
       "      <td>3.920213</td>\n",
       "      <td>24.903090</td>\n",
       "      <td>2.995190</td>\n",
       "      <td>...</td>\n",
       "      <td>27.255474</td>\n",
       "      <td>0.035516</td>\n",
       "      <td>29.839224</td>\n",
       "      <td>R6694</td>\n",
       "      <td>CVS Health Corporation</td>\n",
       "      <td>MAPD</td>\n",
       "      <td>d12_statin_use_in_persons_with_diabetes_supd</td>\n",
       "      <td>0.78</td>\n",
       "      <td>-0.183762</td>\n",
       "      <td>0.829360</td>\n",
       "    </tr>\n",
       "    <tr>\n",
       "      <th>537</th>\n",
       "      <td>R6801</td>\n",
       "      <td>129167</td>\n",
       "      <td>5.515881</td>\n",
       "      <td>32.343138</td>\n",
       "      <td>0.543090</td>\n",
       "      <td>29.734515</td>\n",
       "      <td>6.119373</td>\n",
       "      <td>4.240718</td>\n",
       "      <td>22.580369</td>\n",
       "      <td>1.699430</td>\n",
       "      <td>...</td>\n",
       "      <td>25.472338</td>\n",
       "      <td>0.085476</td>\n",
       "      <td>33.351501</td>\n",
       "      <td>R6801</td>\n",
       "      <td>UnitedHealth Group, Inc.</td>\n",
       "      <td>MAPD</td>\n",
       "      <td>d12_statin_use_in_persons_with_diabetes_supd</td>\n",
       "      <td>0.80</td>\n",
       "      <td>-0.169927</td>\n",
       "      <td>0.822124</td>\n",
       "    </tr>\n",
       "    <tr>\n",
       "      <th>538</th>\n",
       "      <td>R7220</td>\n",
       "      <td>6717</td>\n",
       "      <td>6.385262</td>\n",
       "      <td>33.184329</td>\n",
       "      <td>0.660835</td>\n",
       "      <td>36.311455</td>\n",
       "      <td>4.194965</td>\n",
       "      <td>3.838803</td>\n",
       "      <td>23.886536</td>\n",
       "      <td>1.167543</td>\n",
       "      <td>...</td>\n",
       "      <td>27.588423</td>\n",
       "      <td>0.163693</td>\n",
       "      <td>24.890644</td>\n",
       "      <td>R7220</td>\n",
       "      <td>Humana Inc.</td>\n",
       "      <td>MAPD</td>\n",
       "      <td>d12_statin_use_in_persons_with_diabetes_supd</td>\n",
       "      <td>0.74</td>\n",
       "      <td>-0.209807</td>\n",
       "      <td>0.798320</td>\n",
       "    </tr>\n",
       "    <tr>\n",
       "      <th>539</th>\n",
       "      <td>R7315</td>\n",
       "      <td>14504</td>\n",
       "      <td>6.104441</td>\n",
       "      <td>36.356507</td>\n",
       "      <td>0.587321</td>\n",
       "      <td>28.498690</td>\n",
       "      <td>2.015398</td>\n",
       "      <td>3.922455</td>\n",
       "      <td>21.921160</td>\n",
       "      <td>0.669675</td>\n",
       "      <td>...</td>\n",
       "      <td>28.813055</td>\n",
       "      <td>0.059881</td>\n",
       "      <td>27.135568</td>\n",
       "      <td>R7315</td>\n",
       "      <td>Humana Inc.</td>\n",
       "      <td>MAPD</td>\n",
       "      <td>d12_statin_use_in_persons_with_diabetes_supd</td>\n",
       "      <td>0.83</td>\n",
       "      <td>-0.148140</td>\n",
       "      <td>0.817240</td>\n",
       "    </tr>\n",
       "    <tr>\n",
       "      <th>540</th>\n",
       "      <td>R7444</td>\n",
       "      <td>22860</td>\n",
       "      <td>8.929017</td>\n",
       "      <td>34.355325</td>\n",
       "      <td>0.203102</td>\n",
       "      <td>25.251832</td>\n",
       "      <td>1.186596</td>\n",
       "      <td>3.726030</td>\n",
       "      <td>27.837448</td>\n",
       "      <td>2.524700</td>\n",
       "      <td>...</td>\n",
       "      <td>29.072332</td>\n",
       "      <td>0.035506</td>\n",
       "      <td>28.377429</td>\n",
       "      <td>R7444</td>\n",
       "      <td>UnitedHealth Group, Inc.</td>\n",
       "      <td>MAPD</td>\n",
       "      <td>d12_statin_use_in_persons_with_diabetes_supd</td>\n",
       "      <td>0.83</td>\n",
       "      <td>-0.148140</td>\n",
       "      <td>0.814991</td>\n",
       "    </tr>\n",
       "  </tbody>\n",
       "</table>\n",
       "<p>541 rows × 119 columns</p>\n",
       "</div>"
      ],
      "text/plain": [
       "    contract_number  enrollment  acs_pct_no_veh  acs_pct_commt_29min  \\\n",
       "0             H0028      340598        5.910785            38.106586   \n",
       "1             H0062        2944        6.717585            44.098061   \n",
       "2             H0104       89089        6.040407            37.577188   \n",
       "3             H0107       14881        4.784203            39.043616   \n",
       "4             H0111        4981        6.475404            36.923689   \n",
       "..              ...         ...             ...                  ...   \n",
       "536           R6694        3472        8.732237            35.571884   \n",
       "537           R6801      129167        5.515881            32.343138   \n",
       "538           R7220        6717        6.385262            33.184329   \n",
       "539           R7315       14504        6.104441            36.356507   \n",
       "540           R7444       22860        8.929017            34.355325   \n",
       "\n",
       "     svi_rpl_theme2_hh_disb  acs_pct_associate_dgr  acs_pct_nature  \\\n",
       "0                  0.397531              31.024918        1.887378   \n",
       "1                  0.643300              24.796469        2.575842   \n",
       "2                  0.525280              29.925608        1.726311   \n",
       "3                  0.231744              32.145580        4.168727   \n",
       "4                  0.448879              30.306813        0.535472   \n",
       "..                      ...                    ...             ...   \n",
       "536                0.284978              26.245304        0.675984   \n",
       "537                0.543090              29.734515        6.119373   \n",
       "538                0.660835              36.311455        4.194965   \n",
       "539                0.587321              28.498690        2.015398   \n",
       "540                0.203102              25.251832        1.186596   \n",
       "\n",
       "     acs_pct_age_15_17  acs_pct_educ  acs_pct_api_lang  ...  acs_pct_hh_1pers  \\\n",
       "0             4.076312     22.044589          2.682903  ...         26.809484   \n",
       "1             5.070264     28.075170          1.394048  ...         19.914386   \n",
       "2             3.974771     22.077368          0.770110  ...         29.279129   \n",
       "3             3.522629     23.572003          0.601140  ...         29.912976   \n",
       "4             4.114682     21.363434          2.152922  ...         26.753538   \n",
       "..                 ...           ...               ...  ...               ...   \n",
       "536           3.920213     24.903090          2.995190  ...         27.255474   \n",
       "537           4.240718     22.580369          1.699430  ...         25.472338   \n",
       "538           3.838803     23.886536          1.167543  ...         27.588423   \n",
       "539           3.922455     21.921160          0.669675  ...         28.813055   \n",
       "540           3.726030     27.837448          2.524700  ...         29.072332   \n",
       "\n",
       "     acs_pct_nhpi  acs_pct_owner_hh_child  contract_id  \\\n",
       "0        0.344132               32.112275        H0028   \n",
       "1        0.046782               42.370965        H0062   \n",
       "2        0.042495               27.881597        H0104   \n",
       "3        0.076981               27.113348        H0107   \n",
       "4        0.096129               31.332355        H0111   \n",
       "..            ...                     ...          ...   \n",
       "536      0.035516               29.839224        R6694   \n",
       "537      0.085476               33.351501        R6801   \n",
       "538      0.163693               24.890644        R7220   \n",
       "539      0.059881               27.135568        R7315   \n",
       "540      0.035506               28.377429        R7444   \n",
       "\n",
       "                  parent_organization  contract_type  \\\n",
       "0                        Humana Inc.            MAPD   \n",
       "1                Centene Corporation            MAPD   \n",
       "2    BlueCross BlueShield of Alabama            MAPD   \n",
       "3    Health Care Service Corporation            MAPD   \n",
       "4                Centene Corporation            MAPD   \n",
       "..                                ...            ...   \n",
       "536           CVS Health Corporation            MAPD   \n",
       "537         UnitedHealth Group, Inc.            MAPD   \n",
       "538                      Humana Inc.            MAPD   \n",
       "539                      Humana Inc.            MAPD   \n",
       "540         UnitedHealth Group, Inc.            MAPD   \n",
       "\n",
       "                                          measure  rate  rate_norm  rate_pred  \n",
       "0    d12_statin_use_in_persons_with_diabetes_supd  0.84  -0.140597   0.825054  \n",
       "1    d12_statin_use_in_persons_with_diabetes_supd  0.88  -0.108998   0.857331  \n",
       "2    d12_statin_use_in_persons_with_diabetes_supd  0.80  -0.169927   0.822678  \n",
       "3    d12_statin_use_in_persons_with_diabetes_supd  0.79  -0.176913   0.770099  \n",
       "4    d12_statin_use_in_persons_with_diabetes_supd  0.78  -0.183762   0.831297  \n",
       "..                                            ...   ...        ...        ...  \n",
       "536  d12_statin_use_in_persons_with_diabetes_supd  0.78  -0.183762   0.829360  \n",
       "537  d12_statin_use_in_persons_with_diabetes_supd  0.80  -0.169927   0.822124  \n",
       "538  d12_statin_use_in_persons_with_diabetes_supd  0.74  -0.209807   0.798320  \n",
       "539  d12_statin_use_in_persons_with_diabetes_supd  0.83  -0.148140   0.817240  \n",
       "540  d12_statin_use_in_persons_with_diabetes_supd  0.83  -0.148140   0.814991  \n",
       "\n",
       "[541 rows x 119 columns]"
      ]
     },
     "execution_count": 30,
     "metadata": {},
     "output_type": "execute_result"
    }
   ],
   "source": [
    "training"
   ]
  },
  {
   "cell_type": "code",
   "execution_count": 31,
   "metadata": {},
   "outputs": [],
   "source": [
    "#calculate the weighted average\n",
    "rate_avg = training.groupby(['measure']).apply(lambda x: np.average(x['rate'], weights=x.enrollment)).reset_index()\n",
    "#rename the column\n",
    "rate_avg = rate_avg.rename(columns={0:'rate_avg'})"
   ]
  },
  {
   "cell_type": "markdown",
   "metadata": {},
   "source": [
    "<p>I calculate the adjusted rate by dividing the actual rate by the predicated rate and multiplying by the average rate. I round to 2 decimal places and calculate the difference between the actual and adjusted rates.</p>"
   ]
  },
  {
   "cell_type": "code",
   "execution_count": 32,
   "metadata": {},
   "outputs": [],
   "source": [
    "result = pd.merge(training, rate_avg, how='inner', on=['measure'])\n",
    "result['rate_adj'] = result['rate'] / result['rate_pred'] * result['rate_avg']\n",
    "result['rate_adj'] = result['rate_adj'].round(2)\n",
    "result['rate_diff'] = result['rate_adj'] - result['rate']"
   ]
  },
  {
   "cell_type": "markdown",
   "metadata": {},
   "source": [
    "<p>I plot the difference between the actual and adjusted rates. Rates changed by as much as -6 to 8%!</p>"
   ]
  },
  {
   "cell_type": "code",
   "execution_count": 33,
   "metadata": {
    "scrolled": true
   },
   "outputs": [
    {
     "data": {
      "image/png": "[encoded data removed]",
      "text/plain": [
       "<Figure size 432x288 with 1 Axes>"
      ]
     },
     "metadata": {
      "needs_background": "light"
     },
     "output_type": "display_data"
    }
   ],
   "source": [
    "plt.hist(result['rate_diff'])\n",
    "plt.show()"
   ]
  },
  {
   "cell_type": "markdown",
   "metadata": {},
   "source": [
    "<script>\n",
    "window.addEventListener('load', function() {\n",
    "\tlet message = { height: document.body.scrollHeight, width: document.body.scrollWidth };\t\n",
    "\n",
    "\t// window.top refers to parent window\n",
    "\twindow.top.postMessage(message, \"*\");\n",
    "});\n",
    "</script>"
   ]
  }
 ],
 "metadata": {
  "kernelspec": {
   "display_name": "Python 3 (ipykernel)",
   "language": "python",
   "name": "python3"
  },
  "language_info": {
   "codemirror_mode": {
    "name": "ipython",
    "version": 3
   },
   "file_extension": ".py",
   "mimetype": "text/x-python",
   "name": "python",
   "nbconvert_exporter": "python",
   "pygments_lexer": "ipython3",
   "version": "3.9.7"
  }
 },
 "nbformat": 4,
 "nbformat_minor": 4
}
